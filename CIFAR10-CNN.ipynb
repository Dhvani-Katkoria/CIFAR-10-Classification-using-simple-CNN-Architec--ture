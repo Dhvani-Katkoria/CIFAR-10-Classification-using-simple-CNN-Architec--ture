{
 "cells": [
  {
   "cell_type": "code",
   "execution_count": 1,
   "metadata": {},
   "outputs": [
    {
     "name": "stderr",
     "output_type": "stream",
     "text": [
      "Using TensorFlow backend.\n"
     ]
    }
   ],
   "source": [
    "# Plot ad hoc CIFAR10 instances\n",
    "# Simple CNN model for CIFAR-10\n",
    "from keras.datasets import cifar10\n",
    "from keras.models import Sequential,load_model\n",
    "from keras.layers import Dense\n",
    "from keras.layers import Dropout\n",
    "from keras.layers import Flatten\n",
    "from keras.layers import BatchNormalization\n",
    "from keras.constraints import maxnorm\n",
    "from keras.optimizers import SGD, Adadelta, RMSprop\n",
    "from keras.layers.convolutional import Conv2D\n",
    "from keras.layers.convolutional import MaxPooling2D\n",
    "from keras.utils import np_utils\n",
    "import matplotlib.pyplot as plt\n",
    "\n",
    "import os\n",
    "import time\n",
    "import tensorflow as tf\n",
    "from tensorflow.keras.callbacks import CSVLogger, EarlyStopping, ModelCheckpoint"
   ]
  },
  {
   "cell_type": "code",
   "execution_count": 3,
   "metadata": {},
   "outputs": [],
   "source": [
    "# load data\n",
    "(X_train, y_train), (X_test, y_test) = cifar10.load_data()\n"
   ]
  },
  {
   "cell_type": "code",
   "execution_count": 4,
   "metadata": {},
   "outputs": [],
   "source": [
    "\n",
    "# normalize inputs from 0-255 to 0.0-1.0\n",
    "X_train = X_train.astype('float32')\n",
    "X_test = X_test.astype('float32')\n",
    "X_train = X_train / 255.0\n",
    "X_test = X_test / 255.0\n",
    "\n",
    "# one hot encode outputs\n",
    "y_train = np_utils.to_categorical(y_train)\n",
    "y_test = np_utils.to_categorical(y_test)\n",
    "num_classes = y_test.shape[1]"
   ]
  },
  {
   "cell_type": "code",
   "execution_count": 11,
   "metadata": {
    "scrolled": true
   },
   "outputs": [
    {
     "name": "stdout",
     "output_type": "stream",
     "text": [
      "Model: \"sequential_3\"\n",
      "_________________________________________________________________\n",
      "Layer (type)                 Output Shape              Param #   \n",
      "=================================================================\n",
      "conv2d_13 (Conv2D)           (None, 32, 32, 32)        896       \n",
      "_________________________________________________________________\n",
      "batch_normalization_13 (Batc (None, 32, 32, 32)        128       \n",
      "_________________________________________________________________\n",
      "conv2d_14 (Conv2D)           (None, 32, 32, 32)        9248      \n",
      "_________________________________________________________________\n",
      "batch_normalization_14 (Batc (None, 32, 32, 32)        128       \n",
      "_________________________________________________________________\n",
      "max_pooling2d_7 (MaxPooling2 (None, 16, 16, 32)        0         \n",
      "_________________________________________________________________\n",
      "conv2d_15 (Conv2D)           (None, 16, 16, 64)        18496     \n",
      "_________________________________________________________________\n",
      "batch_normalization_15 (Batc (None, 16, 16, 64)        256       \n",
      "_________________________________________________________________\n",
      "conv2d_16 (Conv2D)           (None, 16, 16, 64)        36928     \n",
      "_________________________________________________________________\n",
      "batch_normalization_16 (Batc (None, 16, 16, 64)        256       \n",
      "_________________________________________________________________\n",
      "max_pooling2d_8 (MaxPooling2 (None, 8, 8, 64)          0         \n",
      "_________________________________________________________________\n",
      "conv2d_17 (Conv2D)           (None, 8, 8, 128)         73856     \n",
      "_________________________________________________________________\n",
      "batch_normalization_17 (Batc (None, 8, 8, 128)         512       \n",
      "_________________________________________________________________\n",
      "conv2d_18 (Conv2D)           (None, 8, 8, 128)         147584    \n",
      "_________________________________________________________________\n",
      "batch_normalization_18 (Batc (None, 8, 8, 128)         512       \n",
      "_________________________________________________________________\n",
      "max_pooling2d_9 (MaxPooling2 (None, 4, 4, 128)         0         \n",
      "_________________________________________________________________\n",
      "flatten_3 (Flatten)          (None, 2048)              0         \n",
      "_________________________________________________________________\n",
      "dense_5 (Dense)              (None, 512)               1049088   \n",
      "_________________________________________________________________\n",
      "dense_6 (Dense)              (None, 10)                5130      \n",
      "=================================================================\n",
      "Total params: 1,343,018\n",
      "Trainable params: 1,342,122\n",
      "Non-trainable params: 896\n",
      "_________________________________________________________________\n"
     ]
    }
   ],
   "source": [
    "batch_normalization = True\n",
    "model = Sequential()\n",
    "\n",
    "#Layer 1 \n",
    "model.add( Conv2D(32, kernel_size=(3,3),strides=(1,1), activation='relu', padding='same', input_shape=X_train.shape[1:] ) )\n",
    "if batch_normalization: model.add(BatchNormalization())\n",
    "#Layer 2 \n",
    "model.add( Conv2D(32, kernel_size=(3,3),strides=(1,1), activation='relu', padding='same') )\n",
    "if batch_normalization: model.add(BatchNormalization())\n",
    "model.add( MaxPooling2D(pool_size=(2,2),strides=(2,2)) )\n",
    "model.add(Dropout(0.2))\n",
    "\n",
    "\n",
    "#Layer 3\n",
    "model.add( Conv2D(64, kernel_size=(3,3), activation='relu', padding='same') )\n",
    "if batch_normalization: model.add(BatchNormalization())\n",
    "#Layer 4\n",
    "model.add( Conv2D(64, kernel_size=(3,3), activation='relu', padding='same') )\n",
    "if batch_normalization: model.add(BatchNormalization())\n",
    "model.add( MaxPooling2D(pool_size=(2,2),strides=(2,2)) )\n",
    "model.add(Dropout(0.2))\n",
    "\n",
    "#Layer 5  \n",
    "model.add( Conv2D(128, kernel_size=(3,3), activation='relu', padding='same') )\n",
    "if batch_normalization: model.add(BatchNormalization())\n",
    "#Layer 6                         \n",
    "model.add( Conv2D(128, kernel_size=(3,3), activation='relu', padding='same') )\n",
    "if batch_normalization: model.add(BatchNormalization())\n",
    "model.add( MaxPooling2D(pool_size=(2,2),strides=(2,2)) )\n",
    "model.add(Dropout(0.2)) \n",
    "\n",
    "\n",
    "# Fully connected layers\n",
    "model.add(Flatten())\n",
    "model.add(Dense(512, activation='tanh'))\n",
    "model.add(Dense(10, activation='softmax'))\n",
    "\n",
    "# Compile model\n",
    "epochs = 50\n",
    "batch_size = 128\n",
    "rms = RMSprop(learning_rate=0.001, rho=0.9)\n",
    "\n",
    "\n",
    "model.compile(loss=tf.keras.losses.categorical_crossentropy,\n",
    "              optimizer=rms,\n",
    "              metrics=['accuracy'])\n",
    "\n",
    "model.summary()\n",
    "\n"
   ]
  },
  {
   "cell_type": "code",
   "execution_count": null,
   "metadata": {
    "scrolled": true
   },
   "outputs": [
    {
     "name": "stdout",
     "output_type": "stream",
     "text": [
      "Train on 50000 samples, validate on 10000 samples\n",
      "Epoch 1/50\n",
      "50000/50000 [==============================] - 276s 6ms/step - loss: 1.3926 - accuracy: 0.5310 - val_loss: 2.0561 - val_accuracy: 0.3723\n",
      "\n",
      "Epoch 00001: val_accuracy improved from -inf to 0.37230, saving model to model3.h5\n",
      "Epoch 2/50\n",
      "50000/50000 [==============================] - 272s 5ms/step - loss: 0.8141 - accuracy: 0.7171 - val_loss: 0.9275 - val_accuracy: 0.6815\n",
      "\n",
      "Epoch 00002: val_accuracy improved from 0.37230 to 0.68150, saving model to model3.h5\n",
      "Epoch 3/50\n",
      "50000/50000 [==============================] - 279s 6ms/step - loss: 0.6159 - accuracy: 0.7867 - val_loss: 1.0372 - val_accuracy: 0.6762\n",
      "\n",
      "Epoch 00003: val_accuracy did not improve from 0.68150\n",
      "Epoch 4/50\n",
      "50000/50000 [==============================] - 278s 6ms/step - loss: 0.4824 - accuracy: 0.8319 - val_loss: 0.7034 - val_accuracy: 0.7666\n",
      "\n",
      "Epoch 00004: val_accuracy improved from 0.68150 to 0.76660, saving model to model3.h5\n",
      "Epoch 5/50\n",
      "50000/50000 [==============================] - 263s 5ms/step - loss: 0.3742 - accuracy: 0.8687 - val_loss: 0.6187 - val_accuracy: 0.7961\n",
      "\n",
      "Epoch 00005: val_accuracy improved from 0.76660 to 0.79610, saving model to model3.h5\n",
      "Epoch 6/50\n",
      "50000/50000 [==============================] - 290s 6ms/step - loss: 0.2875 - accuracy: 0.8983 - val_loss: 0.6164 - val_accuracy: 0.8025\n",
      "\n",
      "Epoch 00006: val_accuracy improved from 0.79610 to 0.80250, saving model to model3.h5\n",
      "Epoch 7/50\n",
      "50000/50000 [==============================] - 248s 5ms/step - loss: 0.2159 - accuracy: 0.9256 - val_loss: 0.7566 - val_accuracy: 0.7840\n",
      "\n",
      "Epoch 00007: val_accuracy did not improve from 0.80250\n",
      "Epoch 8/50\n",
      "50000/50000 [==============================] - 242s 5ms/step - loss: 0.1565 - accuracy: 0.9449 - val_loss: 0.9252 - val_accuracy: 0.7628\n",
      "\n",
      "Epoch 00008: val_accuracy did not improve from 0.80250\n",
      "Epoch 9/50\n",
      "50000/50000 [==============================] - 239s 5ms/step - loss: 0.1227 - accuracy: 0.9573 - val_loss: 0.7450 - val_accuracy: 0.8013\n",
      "\n",
      "Epoch 00009: val_accuracy did not improve from 0.80250\n",
      "Epoch 10/50\n",
      "50000/50000 [==============================] - 239s 5ms/step - loss: 0.0988 - accuracy: 0.9660 - val_loss: 0.7987 - val_accuracy: 0.7966\n",
      "\n",
      "Epoch 00010: val_accuracy did not improve from 0.80250\n",
      "Epoch 11/50\n",
      "50000/50000 [==============================] - 264s 5ms/step - loss: 0.0837 - accuracy: 0.9703 - val_loss: 0.8080 - val_accuracy: 0.8083\n",
      "\n",
      "Epoch 00011: val_accuracy improved from 0.80250 to 0.80830, saving model to model3.h5\n",
      "Epoch 12/50\n",
      "50000/50000 [==============================] - 259s 5ms/step - loss: 0.0717 - accuracy: 0.9754 - val_loss: 0.9143 - val_accuracy: 0.7947\n",
      "\n",
      "Epoch 00012: val_accuracy did not improve from 0.80830\n",
      "Epoch 13/50\n",
      "50000/50000 [==============================] - 267s 5ms/step - loss: 0.0672 - accuracy: 0.9766 - val_loss: 0.8431 - val_accuracy: 0.8109\n",
      "\n",
      "Epoch 00013: val_accuracy improved from 0.80830 to 0.81090, saving model to model3.h5\n",
      "Epoch 14/50\n",
      "50000/50000 [==============================] - 280s 6ms/step - loss: 0.0603 - accuracy: 0.9793 - val_loss: 0.9386 - val_accuracy: 0.8047\n",
      "\n",
      "Epoch 00014: val_accuracy did not improve from 0.81090\n",
      "Epoch 15/50\n",
      "50000/50000 [==============================] - 234s 5ms/step - loss: 0.0560 - accuracy: 0.9802 - val_loss: 1.0384 - val_accuracy: 0.7885\n",
      "\n",
      "Epoch 00015: val_accuracy did not improve from 0.81090\n",
      "Epoch 16/50\n",
      "50000/50000 [==============================] - 231s 5ms/step - loss: 0.0534 - accuracy: 0.9813 - val_loss: 0.9117 - val_accuracy: 0.8111\n",
      "\n",
      "Epoch 00016: val_accuracy improved from 0.81090 to 0.81110, saving model to model3.h5\n",
      "Epoch 17/50\n",
      "50000/50000 [==============================] - 232s 5ms/step - loss: 0.0484 - accuracy: 0.9830 - val_loss: 0.9902 - val_accuracy: 0.7988\n",
      "\n",
      "Epoch 00017: val_accuracy did not improve from 0.81110\n",
      "Epoch 18/50\n",
      "50000/50000 [==============================] - 250s 5ms/step - loss: 0.0492 - accuracy: 0.9830 - val_loss: 0.9832 - val_accuracy: 0.8089\n",
      "\n",
      "Epoch 00018: val_accuracy did not improve from 0.81110\n",
      "Epoch 19/50\n",
      "50000/50000 [==============================] - 270s 5ms/step - loss: 0.0450 - accuracy: 0.9842 - val_loss: 1.0216 - val_accuracy: 0.7983\n",
      "\n",
      "Epoch 00019: val_accuracy did not improve from 0.81110\n",
      "Epoch 20/50\n",
      "50000/50000 [==============================] - 274s 5ms/step - loss: 0.0408 - accuracy: 0.9859 - val_loss: 1.0787 - val_accuracy: 0.7944\n",
      "\n",
      "Epoch 00020: val_accuracy did not improve from 0.81110\n",
      "Epoch 21/50\n",
      "50000/50000 [==============================] - 286s 6ms/step - loss: 0.0394 - accuracy: 0.9864 - val_loss: 0.9667 - val_accuracy: 0.8173\n",
      "\n",
      "Epoch 00021: val_accuracy improved from 0.81110 to 0.81730, saving model to model3.h5\n",
      "Epoch 22/50\n",
      "50000/50000 [==============================] - 301s 6ms/step - loss: 0.0373 - accuracy: 0.9869 - val_loss: 1.0115 - val_accuracy: 0.8103\n",
      "\n",
      "Epoch 00022: val_accuracy did not improve from 0.81730\n",
      "Epoch 23/50\n",
      "50000/50000 [==============================] - 309s 6ms/step - loss: 0.0394 - accuracy: 0.9862 - val_loss: 1.1163 - val_accuracy: 0.7958\n",
      "\n",
      "Epoch 00023: val_accuracy did not improve from 0.81730\n",
      "Epoch 24/50\n",
      "50000/50000 [==============================] - 311s 6ms/step - loss: 0.0359 - accuracy: 0.9878 - val_loss: 1.2510 - val_accuracy: 0.7898\n",
      "\n",
      "Epoch 00024: val_accuracy did not improve from 0.81730\n",
      "Epoch 25/50\n",
      "50000/50000 [==============================] - 318s 6ms/step - loss: 0.0334 - accuracy: 0.9878 - val_loss: 1.1773 - val_accuracy: 0.7881\n",
      "\n",
      "Epoch 00025: val_accuracy did not improve from 0.81730\n",
      "Epoch 26/50\n",
      "50000/50000 [==============================] - 313s 6ms/step - loss: 0.0345 - accuracy: 0.9882 - val_loss: 1.0899 - val_accuracy: 0.8090\n",
      "\n",
      "Epoch 00026: val_accuracy did not improve from 0.81730\n",
      "Epoch 27/50\n",
      "50000/50000 [==============================] - 305s 6ms/step - loss: 0.0293 - accuracy: 0.9897 - val_loss: 1.1768 - val_accuracy: 0.7936\n",
      "\n",
      "Epoch 00027: val_accuracy did not improve from 0.81730\n",
      "Epoch 28/50\n",
      "50000/50000 [==============================] - 304s 6ms/step - loss: 0.0294 - accuracy: 0.9899 - val_loss: 1.1567 - val_accuracy: 0.8007\n",
      "\n",
      "Epoch 00028: val_accuracy did not improve from 0.81730\n",
      "Epoch 29/50\n",
      "50000/50000 [==============================] - 309s 6ms/step - loss: 0.0285 - accuracy: 0.9901 - val_loss: 1.0760 - val_accuracy: 0.8126\n",
      "\n",
      "Epoch 00029: val_accuracy did not improve from 0.81730\n",
      "Epoch 30/50\n",
      "50000/50000 [==============================] - 305s 6ms/step - loss: 0.0278 - accuracy: 0.9897 - val_loss: 1.1732 - val_accuracy: 0.8014\n",
      "\n",
      "Epoch 00030: val_accuracy did not improve from 0.81730\n",
      "Epoch 31/50\n",
      "50000/50000 [==============================] - 413s 8ms/step - loss: 0.0251 - accuracy: 0.9913 - val_loss: 1.1936 - val_accuracy: 0.8058\n",
      "\n",
      "Epoch 00031: val_accuracy did not improve from 0.81730\n",
      "Epoch 32/50\n",
      "50000/50000 [==============================] - 231s 5ms/step - loss: 0.0264 - accuracy: 0.9911 - val_loss: 1.0756 - val_accuracy: 0.8190\n",
      "\n",
      "Epoch 00032: val_accuracy improved from 0.81730 to 0.81900, saving model to model3.h5\n",
      "Epoch 33/50\n",
      "50000/50000 [==============================] - 264s 5ms/step - loss: 0.0241 - accuracy: 0.9914 - val_loss: 1.1324 - val_accuracy: 0.8104\n",
      "\n",
      "Epoch 00033: val_accuracy did not improve from 0.81900\n",
      "Epoch 34/50\n",
      "50000/50000 [==============================] - 269s 5ms/step - loss: 0.0230 - accuracy: 0.9917 - val_loss: 1.1855 - val_accuracy: 0.8108\n",
      "\n",
      "Epoch 00034: val_accuracy did not improve from 0.81900\n",
      "Epoch 35/50\n",
      "50000/50000 [==============================] - 309s 6ms/step - loss: 0.0243 - accuracy: 0.9917 - val_loss: 1.2630 - val_accuracy: 0.7999\n",
      "\n",
      "Epoch 00035: val_accuracy did not improve from 0.81900\n",
      "Epoch 36/50\n",
      "22016/50000 [============>.................] - ETA: 2:50 - loss: 0.0238 - accuracy: 0.9922"
     ]
    }
   ],
   "source": [
    "es = EarlyStopping(monitor='val_loss', mode='min', verbose=1, patience=200)\n",
    "mc = ModelCheckpoint('model3.h5', monitor='val_accuracy', mode='max', verbose=1, save_best_only=True)\n",
    "\n",
    "# Fit the model\n",
    "t0=time.time()\n",
    "model_history = model.fit(X_train, y_train, validation_data=(X_test, y_test), epochs=epochs, batch_size=batch_size,  callbacks=[es,mc])\n",
    "t1=time.time()\n",
    "\n",
    "# load the saved model\n",
    "saved_model = load_model('best_model.h5')\n",
    "\n",
    "# Final evaluation of the model\n",
    "scores = saved_model.evaluate(X_test, y_test, verbose=0)\n",
    "print(\"Accuracy: %.2f%%\" % (scores[1]*100))\n",
    "print(\"training time:\", round(t1-t0, 3), \"s\") # the time would be round to 3 decimal in seconds"
   ]
  },
  {
   "cell_type": "code",
   "execution_count": 7,
   "metadata": {
    "scrolled": true
   },
   "outputs": [
    {
     "data": {
      "image/png": "[encoded data removed]",
      "text/plain": [
       "<Figure size 432x288 with 1 Axes>"
      ]
     },
     "metadata": {
      "needs_background": "light"
     },
     "output_type": "display_data"
    }
   ],
   "source": [
    "loss = model_history.history['loss']\n",
    "val_loss = model_history.history['val_loss']\n",
    "epochs = range(1, len(loss) + 1)\n",
    "plt.plot(epochs, loss, 'y', label='Training loss')\n",
    "plt.plot(epochs, val_loss, 'r', label='Validation loss')\n",
    "plt.title('Training and validation loss')\n",
    "plt.xlabel('Epochs')\n",
    "plt.ylabel('Loss')\n",
    "plt.legend()\n",
    "plt.show()"
   ]
  },
  {
   "cell_type": "code",
   "execution_count": 8,
   "metadata": {
    "scrolled": true
   },
   "outputs": [
    {
     "data": {
      "image/png": "[encoded data removed]",
      "text/plain": [
       "<Figure size 432x288 with 1 Axes>"
      ]
     },
     "metadata": {
      "needs_background": "light"
     },
     "output_type": "display_data"
    }
   ],
   "source": [
    "acc = model_history.history['accuracy']\n",
    "val_acc = model_history.history['val_accuracy']\n",
    "plt.plot(epochs, acc, 'y', label='Training acc')\n",
    "plt.plot(epochs, val_acc, 'r', label='Validation acc')\n",
    "plt.title('Training and validation accuracy')\n",
    "plt.xlabel('Epochs')\n",
    "plt.ylabel('Accuracy')\n",
    "plt.legend()\n",
    "plt.show()"
   ]
  },
  {
   "cell_type": "code",
   "execution_count": null,
   "metadata": {},
   "outputs": [],
   "source": []
  }
 ],
 "metadata": {
  "kernelspec": {
   "display_name": "Python 3",
   "language": "python",
   "name": "python3"
  },
  "language_info": {
   "codemirror_mode": {
    "name": "ipython",
    "version": 3
   },
   "file_extension": ".py",
   "mimetype": "text/x-python",
   "name": "python",
   "nbconvert_exporter": "python",
   "pygments_lexer": "ipython3",
   "version": "3.6.5"
  }
 },
 "nbformat": 4,
 "nbformat_minor": 2
}
